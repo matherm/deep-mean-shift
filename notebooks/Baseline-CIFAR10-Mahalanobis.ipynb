{
 "cells": [
  {
   "cell_type": "code",
   "execution_count": 3,
   "id": "17b11a06-7976-4b4b-b4e2-a69e84dd4d9b",
   "metadata": {},
   "outputs": [
    {
     "name": "stdout",
     "output_type": "stream",
     "text": [
      "The autoreload extension is already loaded. To reload it, use:\n",
      "  %reload_ext autoreload\n"
     ]
    }
   ],
   "source": [
    "%load_ext autoreload\n",
    "%autoreload 2\n",
    "import numpy as np\n",
    "import torch\n",
    "import torchvision\n",
    "from torchvision import models\n",
    "import torchvision.transforms.functional as TF\n",
    "import matplotlib.pyplot as plt\n",
    "import os\n",
    "\n",
    "import pandas as pd\n",
    "import numpy as np\n",
    "from sklearn.manifold import TSNE\n",
    "from sklearn.decomposition import PCA, FastICA\n",
    "from sklearn.covariance import LedoitWolf, MinCovDet\n",
    "\n",
    "from torchvision.transforms import transforms\n",
    "from sklearn.metrics import roc_auc_score\n",
    "\n",
    "np.random.seed(252525)\n",
    "torch.manual_seed(252525)\n",
    "\n",
    "import torch\n",
    "import torch.nn as nn\n",
    "\n",
    "from meanshift import *\n",
    "\n",
    "device = 'cuda' if torch.cuda.is_available() else 'cpu'"
   ]
  },
  {
   "cell_type": "code",
   "execution_count": 4,
   "id": "8023d4ce-57bd-4f77-864e-039ea95b4217",
   "metadata": {},
   "outputs": [
    {
     "data": {
      "text/plain": [
       "'cuda'"
      ]
     },
     "execution_count": 4,
     "metadata": {},
     "output_type": "execute_result"
    }
   ],
   "source": [
    "net = models.efficientnet_b4(pretrained=True).features\n",
    "net = net.to(device)\n",
    "net = net.eval()\n",
    "device"
   ]
  },
  {
   "cell_type": "code",
   "execution_count": 8,
   "id": "cb1a3da9-8d42-46e4-8dd5-e9798adea778",
   "metadata": {
    "scrolled": true,
    "tags": []
   },
   "outputs": [
    {
     "name": "stdout",
     "output_type": "stream",
     "text": [
      "Files already downloaded and verified\n",
      "Files already downloaded and verified\n",
      "plane 0.749074\n",
      "Files already downloaded and verified\n",
      "Files already downloaded and verified\n",
      "car 0.7530600000000001\n",
      "Files already downloaded and verified\n",
      "Files already downloaded and verified\n",
      "bird 0.635725\n",
      "Files already downloaded and verified\n",
      "Files already downloaded and verified\n",
      "cat 0.650938\n",
      "Files already downloaded and verified\n",
      "Files already downloaded and verified\n",
      "deer 0.737636\n",
      "Files already downloaded and verified\n",
      "Files already downloaded and verified\n",
      "dog 0.703292\n",
      "Files already downloaded and verified\n",
      "Files already downloaded and verified\n",
      "frog 0.7683699999999999\n",
      "Files already downloaded and verified\n",
      "Files already downloaded and verified\n",
      "horse 0.765567\n",
      "Files already downloaded and verified\n",
      "Files already downloaded and verified\n",
      "ship 0.7434560000000001\n",
      "Files already downloaded and verified\n",
      "Files already downloaded and verified\n",
      "truck 0.7833589999999999\n",
      "Files already downloaded and verified\n",
      "Files already downloaded and verified\n",
      "plane 0.7408684999999999\n",
      "Files already downloaded and verified\n",
      "Files already downloaded and verified\n",
      "car 0.742397\n",
      "Files already downloaded and verified\n",
      "Files already downloaded and verified\n",
      "bird 0.624805\n",
      "Files already downloaded and verified\n",
      "Files already downloaded and verified\n",
      "cat 0.662109\n",
      "Files already downloaded and verified\n",
      "Files already downloaded and verified\n",
      "deer 0.7354069999999999\n",
      "Files already downloaded and verified\n",
      "Files already downloaded and verified\n",
      "dog 0.70855\n",
      "Files already downloaded and verified\n",
      "Files already downloaded and verified\n",
      "frog 0.7628275\n",
      "Files already downloaded and verified\n",
      "Files already downloaded and verified\n",
      "horse 0.7491690000000001\n",
      "Files already downloaded and verified\n",
      "Files already downloaded and verified\n",
      "ship 0.743803\n",
      "Files already downloaded and verified\n",
      "Files already downloaded and verified\n",
      "truck 0.774732\n"
     ]
    }
   ],
   "source": [
    "bs = 50\n",
    "clazz = 3\n",
    "epochs = 1\n",
    "augment = False\n",
    "\n",
    "log = []\n",
    "\n",
    "for run in range(2):\n",
    "\n",
    "    for clazz in range(10):\n",
    "\n",
    "        X_, X_valid_, X_test_ = Cifar10_OneClass(train_classes=[clazz], balance=False, fold=run, transform=transforms.Compose([transforms.ToTensor()]))[0]\n",
    "        X_ = X_.reshape(len(X_), 3, 32, 32)\n",
    "        X_valid_ = X_valid_.reshape((len(X_valid_), 3, 32, 32))\n",
    "        X_test_ = X_test_.reshape((len(X_test_), 3, 32, 32))\n",
    "\n",
    "        scores_inliers = []\n",
    "        scores_outliers = []\n",
    "\n",
    "        for l in range(9):\n",
    "\n",
    "            X = concat_features(X_, net, layers=[l], fmap_pool=False)\n",
    "            X_valid = concat_features(X_valid_, net, layers=[l], fmap_pool=False)\n",
    "            X_test = concat_features(X_test_, net, layers=[l], fmap_pool=False)\n",
    "\n",
    "            # Pooling training\n",
    "            n = X.shape[0]\n",
    "            X__ = X.mean((2,3))\n",
    "            #X__ = X__.reshape(n, -1)\n",
    "\n",
    "            C_inv = LedoitWolf().fit(X__).precision_\n",
    "            mu = X__.mean(0)\n",
    "\n",
    "            # Pooling inliers\n",
    "            n_valid = len(X_valid)\n",
    "            X_valid__ = X_valid.mean((2,3)) - mu\n",
    "            #X_valid_ = X_valid_.reshape(n_valid, -1)\n",
    "\n",
    "            # Pooling outliers\n",
    "            n_test = len(X_test)\n",
    "            X_test__ = X_test.mean((2,3)) - mu\n",
    "            #X_test_ = X_test_.reshape(n_test, -1)\n",
    "\n",
    "            # Mahalanobis\n",
    "            M_valid_ = np.sqrt( ( X_valid__ * ( C_inv @ X_valid__.T ).T ).sum(1) )    \n",
    "            M_test_  = np.sqrt( ( X_test__ * ( C_inv @ X_test__.T ).T ).sum(1) )    \n",
    "\n",
    "            scores_inliers.append(M_valid_)\n",
    "            scores_outliers.append(M_test_)\n",
    "\n",
    "        auc = roc_auc_score([0] * n_valid + [1] * n_test, np.concatenate([np.asarray(scores_inliers).sum(0), np.asarray(scores_outliers).sum(0)]))\n",
    "\n",
    "        log.append(pd.DataFrame(np.asarray([run, clazz, l, n, auc])[:, None].T, columns=[\"run\", \"class\", \"layers\", \"n_samples\", \"auc\"])) \n",
    "\n",
    "        print(Cifar10_OneClass.CLASSES[clazz], auc)"
   ]
  },
  {
   "cell_type": "code",
   "execution_count": 10,
   "id": "2771e777-9911-413d-9d7e-40df4f459af0",
   "metadata": {},
   "outputs": [
    {
     "name": "stdout",
     "output_type": "stream",
     "text": [
      "class=plane      \tauc: 0.745 ± 0.006\n",
      "class=car        \tauc: 0.748 ± 0.008\n",
      "class=bird       \tauc: 0.630 ± 0.008\n",
      "class=cat        \tauc: 0.657 ± 0.008\n",
      "class=deer       \tauc: 0.737 ± 0.002\n",
      "class=dog        \tauc: 0.706 ± 0.004\n",
      "class=frog       \tauc: 0.766 ± 0.004\n",
      "class=horse      \tauc: 0.757 ± 0.012\n",
      "class=ship       \tauc: 0.744 ± 0.000\n",
      "class=truck      \tauc: 0.779 ± 0.006\n",
      "avg.-auc: 0.727 ± 0.003\n"
     ]
    }
   ],
   "source": [
    "# GLOBAL layer 5/6\n",
    "log_ = pd.concat(log)\n",
    "\n",
    "for clazz in range(10):\n",
    "    auc = log_[(log_[\"class\"] == clazz)].groupby(\"run\").mean()[\"auc\"]\n",
    "    print(f\"class={Cifar10_OneClass.CLASSES[clazz]:10s}\", f\"\\tauc: {auc.mean():.3f}\", \"\\u00B1\", f\"{auc.std():.3f}\")\n",
    "    \n",
    "log_ = pd.concat(log)\n",
    "\n",
    "auc = log_.groupby(\"run\").mean()[\"auc\"]\n",
    "print(f\"avg.-auc: {auc.mean():.3f}\", \"\\u00B1\", f\"{auc.std():.3f}\")"
   ]
  }
 ],
 "metadata": {
  "kernelspec": {
   "display_name": "Python 3 (ipykernel)",
   "language": "python",
   "name": "python3"
  },
  "language_info": {
   "codemirror_mode": {
    "name": "ipython",
    "version": 3
   },
   "file_extension": ".py",
   "mimetype": "text/x-python",
   "name": "python",
   "nbconvert_exporter": "python",
   "pygments_lexer": "ipython3",
   "version": "3.9.7"
  }
 },
 "nbformat": 4,
 "nbformat_minor": 5
}
