{
 "cells": [
  {
   "cell_type": "code",
   "execution_count": 2,
   "id": "d8174b34-84bb-4063-b15d-e12daca2e316",
   "metadata": {},
   "outputs": [
    {
     "name": "stdout",
     "output_type": "stream",
     "text": [
      "The autoreload extension is already loaded. To reload it, use:\n",
      "  %reload_ext autoreload\n"
     ]
    }
   ],
   "source": [
    "%load_ext autoreload\n",
    "%autoreload 2\n",
    "import numpy as np\n",
    "import torch\n",
    "import torchvision\n",
    "from torchvision import models\n",
    "import torchvision.transforms.functional as TF\n",
    "import matplotlib.pyplot as plt\n",
    "import os\n",
    "\n",
    "import pandas as pd\n",
    "import numpy as np\n",
    "\n",
    "from torchvision.transforms import transforms\n",
    "from sklearn.metrics import roc_auc_score\n",
    "from sklearn.svm import OneClassSVM\n",
    "\n",
    "np.random.seed(252525)\n",
    "torch.manual_seed(252525)\n",
    "\n",
    "import torch\n",
    "import torch.nn as nn\n",
    "\n",
    "from meanshift import *"
   ]
  },
  {
   "cell_type": "code",
   "execution_count": 5,
   "id": "edc8dcdd-7202-45c3-9f53-133bfa478119",
   "metadata": {},
   "outputs": [],
   "source": [
    "\n",
    "\n",
    "device = 'cuda' if torch.cuda.is_available() else 'cpu'\n",
    "\n",
    "net = models.vgg19(pretrained=True).features\n",
    "net = net.to(device)\n",
    "net = net.eval()\n",
    "\n",
    "def flatten(X):\n",
    "    return X.reshape(len(X), -1)"
   ]
  },
  {
   "cell_type": "code",
   "execution_count": 9,
   "id": "4592be2e-93d2-4dfb-92ce-695202f43a22",
   "metadata": {},
   "outputs": [
    {
     "name": "stdout",
     "output_type": "stream",
     "text": [
      "Files already downloaded and verified\n",
      "Files already downloaded and verified\n",
      "Files already downloaded and verified\n",
      "Files already downloaded and verified\n",
      "Files already downloaded and verified\n",
      "Files already downloaded and verified\n",
      "Files already downloaded and verified\n",
      "Files already downloaded and verified\n",
      "Files already downloaded and verified\n",
      "Files already downloaded and verified\n",
      "Files already downloaded and verified\n",
      "Files already downloaded and verified\n",
      "Files already downloaded and verified\n",
      "Files already downloaded and verified\n",
      "Files already downloaded and verified\n",
      "Files already downloaded and verified\n",
      "Files already downloaded and verified\n",
      "Files already downloaded and verified\n",
      "Files already downloaded and verified\n",
      "Files already downloaded and verified\n",
      "Files already downloaded and verified\n",
      "Files already downloaded and verified\n",
      "Files already downloaded and verified\n",
      "Files already downloaded and verified\n",
      "Files already downloaded and verified\n",
      "Files already downloaded and verified\n",
      "Files already downloaded and verified\n",
      "Files already downloaded and verified\n",
      "Files already downloaded and verified\n",
      "Files already downloaded and verified\n",
      "Files already downloaded and verified\n",
      "Files already downloaded and verified\n",
      "Files already downloaded and verified\n",
      "Files already downloaded and verified\n",
      "Files already downloaded and verified\n",
      "Files already downloaded and verified\n",
      "Files already downloaded and verified\n",
      "Files already downloaded and verified\n",
      "Files already downloaded and verified\n",
      "Files already downloaded and verified\n",
      "Files already downloaded and verified\n",
      "Files already downloaded and verified\n",
      "Files already downloaded and verified\n",
      "Files already downloaded and verified\n",
      "Files already downloaded and verified\n",
      "Files already downloaded and verified\n",
      "Files already downloaded and verified\n",
      "Files already downloaded and verified\n",
      "Files already downloaded and verified\n",
      "Files already downloaded and verified\n",
      "Files already downloaded and verified\n",
      "Files already downloaded and verified\n",
      "Files already downloaded and verified\n",
      "Files already downloaded and verified\n",
      "Files already downloaded and verified\n",
      "Files already downloaded and verified\n",
      "Files already downloaded and verified\n",
      "Files already downloaded and verified\n",
      "Files already downloaded and verified\n",
      "Files already downloaded and verified\n"
     ]
    }
   ],
   "source": [
    "log = []\n",
    "layers = [33, 34]\n",
    "\n",
    "for run in range(3):\n",
    "\n",
    "    for clazz in range(0, 10):\n",
    "\n",
    "        X_, X_valid_, X_test_ = Cifar10_OneClass(train_classes=[clazz], balance=False, fold=run, transform=transforms.Compose([transforms.ToTensor()]))[0]\n",
    "        X_ = X_.reshape(len(X_), 3, 32, 32)\n",
    "        X_valid_ = X_valid_.reshape((len(X_valid_), 3, 32, 32))\n",
    "        X_test_ = X_test_.reshape((len(X_test_), 3, 32, 32))\n",
    "\n",
    "        X = concat_features(X_, net, layers=layers, fmap_pool=False)\n",
    "        X_valid = concat_features(X_valid_, net, layers=layers, fmap_pool=False)\n",
    "        X_test = concat_features(X_test_, net, layers=layers, fmap_pool=False)\n",
    "        \n",
    "        clf = OneClassSVM(gamma='auto').fit(flatten(X))\n",
    "        s_in = -clf.score_samples(flatten(X_valid))\n",
    "        s_out = -clf.score_samples(flatten(X_test))\n",
    "\n",
    "        auc = roc_auc_score([0] * len(X_valid) + [1] * len(X_test), np.concatenate([s_in, s_out]))\n",
    "\n",
    "        log.append(pd.DataFrame(np.asarray([run, clazz, layers[0], len(X), auc])[:, None].T, columns=[\"run\", \"class\", \"layers\", \"n_samples\", \"auc\"])) \n",
    "    "
   ]
  },
  {
   "cell_type": "code",
   "execution_count": 11,
   "id": "aa5a4df4-3241-4c58-8a04-87be704da6e8",
   "metadata": {},
   "outputs": [
    {
     "name": "stdout",
     "output_type": "stream",
     "text": [
      "class=plane      \tauc: 0.718 ± 0.020\n",
      "class=car        \tauc: 0.712 ± 0.003\n",
      "class=bird       \tauc: 0.606 ± 0.008\n",
      "class=cat        \tauc: 0.643 ± 0.019\n",
      "class=deer       \tauc: 0.788 ± 0.008\n",
      "class=dog        \tauc: 0.661 ± 0.006\n",
      "class=frog       \tauc: 0.786 ± 0.014\n",
      "class=horse      \tauc: 0.704 ± 0.013\n",
      "class=ship       \tauc: 0.785 ± 0.003\n",
      "class=truck      \tauc: 0.796 ± 0.014\n",
      "avg.-auc: 0.720 ± 0.009\n"
     ]
    }
   ],
   "source": [
    "# GLOBAL layer 5/6\n",
    "log_ = pd.concat(log)\n",
    "\n",
    "for clazz in range(10):\n",
    "    auc = log_[(log_[\"class\"] == clazz)].groupby(\"run\").mean()[\"auc\"]\n",
    "    print(f\"class={Cifar10_OneClass.CLASSES[clazz]:10s}\", f\"\\tauc: {auc.mean():.3f}\", \"\\u00B1\", f\"{auc.std():.3f}\")\n",
    "    \n",
    "log_ = pd.concat(log)\n",
    "\n",
    "auc = log_.groupby(\"run\").mean()[\"auc\"]\n",
    "print(f\"avg.-auc: {auc.mean():.3f}\", \"\\u00B1\", f\"{auc.std():.3f}\")"
   ]
  },
  {
   "cell_type": "code",
   "execution_count": null,
   "id": "91ab574f-6e28-445d-99dc-ed1665fdfaf0",
   "metadata": {},
   "outputs": [],
   "source": []
  }
 ],
 "metadata": {
  "kernelspec": {
   "display_name": "Python 3 (ipykernel)",
   "language": "python",
   "name": "python3"
  },
  "language_info": {
   "codemirror_mode": {
    "name": "ipython",
    "version": 3
   },
   "file_extension": ".py",
   "mimetype": "text/x-python",
   "name": "python",
   "nbconvert_exporter": "python",
   "pygments_lexer": "ipython3",
   "version": "3.9.7"
  }
 },
 "nbformat": 4,
 "nbformat_minor": 5
}
