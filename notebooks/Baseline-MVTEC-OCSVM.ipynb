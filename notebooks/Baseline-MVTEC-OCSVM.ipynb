{
 "cells": [
  {
   "cell_type": "code",
   "execution_count": 1,
   "id": "d8174b34-84bb-4063-b15d-e12daca2e316",
   "metadata": {},
   "outputs": [],
   "source": [
    "%load_ext autoreload\n",
    "%autoreload 2\n",
    "import numpy as np\n",
    "import torch\n",
    "import torchvision\n",
    "from torchvision import models\n",
    "import torchvision.transforms.functional as TF\n",
    "import matplotlib.pyplot as plt\n",
    "import os\n",
    "\n",
    "import pandas as pd\n",
    "import numpy as np\n",
    "\n",
    "from torchvision.transforms import transforms\n",
    "from sklearn.metrics import roc_auc_score\n",
    "\n",
    "np.random.seed(252525)\n",
    "torch.manual_seed(252525)\n",
    "\n",
    "import torch\n",
    "import torch.nn as nn\n",
    "\n",
    "from data.mvtec import *\n",
    "from meanshift import *\n",
    "\n",
    "\n",
    "MVTEC_PATH=\"../../../../nas-files/mvtec\"\n"
   ]
  },
  {
   "cell_type": "code",
   "execution_count": 2,
   "id": "edc8dcdd-7202-45c3-9f53-133bfa478119",
   "metadata": {},
   "outputs": [],
   "source": [
    "from sklearn.svm import OneClassSVM\n",
    "\n",
    "device = 'cuda' if torch.cuda.is_available() else 'cpu'\n",
    "\n",
    "net = models.efficientnet_b4(pretrained=True).features\n",
    "net = net.to(device)\n",
    "net = net.eval()\n",
    "\n",
    "def flatten(X):\n",
    "    return X.reshape(len(X), -1)"
   ]
  },
  {
   "cell_type": "code",
   "execution_count": 4,
   "id": "4592be2e-93d2-4dfb-92ce-695202f43a22",
   "metadata": {},
   "outputs": [],
   "source": [
    "log = []\n",
    "layers = [5, 6]\n",
    "\n",
    "for n in [1, 5, 10, 25, 50, 80, 100]:\n",
    "\n",
    "    for run in range(2):\n",
    "\n",
    "        for clazz in range(0, 15):\n",
    "\n",
    "            X_, X_valid_, X_test_, X_labels_, T = dataloader(clazz, P=224, s=224, label_per_patch=False, load_size=256, crop_size=224, normalize=False, MVTEC_PATH=MVTEC_PATH, fold=run )\n",
    "            X_ = X_[np.random.permutation(len(X_))][:n]\n",
    "            \n",
    "            X = concat_features(X_, net, blocks=layers, fmap_pool=False)\n",
    "            X_valid = concat_features(X_valid_, net, blocks=layers, fmap_pool=False)\n",
    "            X_test = concat_features(X_test_, net, blocks=layers, fmap_pool=False)\n",
    "\n",
    "            clf = OneClassSVM(gamma='auto').fit(flatten(X))\n",
    "            s_in = -clf.score_samples(flatten(X_valid))\n",
    "            s_out = -clf.score_samples(flatten(X_test))\n",
    "\n",
    "            auc = roc_auc_score([0] * len(X_valid) + [1] * len(X_test), np.concatenate([s_in, s_out]))\n",
    "\n",
    "            log.append(pd.DataFrame(np.asarray([run, clazz, layers[0], n, auc])[:, None].T, columns=[\"run\", \"class\", \"layers\", \"n_samples\", \"auc\"])) \n",
    "    "
   ]
  },
  {
   "cell_type": "code",
   "execution_count": 5,
   "id": "409cccff-a3fd-42c5-ae8a-493c871c30be",
   "metadata": {},
   "outputs": [
    {
     "data": {
      "text/plain": [
       "(array([  1.,   5.,  10.,  25.,  50.,  80., 100.]),\n",
       " array([0.5781456 , 0.62865186, 0.6516684 , 0.6665207 , 0.6735555 ,\n",
       "        0.6905192 , 0.69877046], dtype=float32),\n",
       " array([0.00816637, 0.00409292, 0.01393459, 0.00899292, 0.00876924,\n",
       "        0.00249585, 0.00780391]))"
      ]
     },
     "execution_count": 5,
     "metadata": {},
     "output_type": "execute_result"
    }
   ],
   "source": [
    "dat = pd.concat(log)\n",
    "\n",
    "x = dat[[\"run\", \"class\", \"auc\", \"n_samples\"]].astype(np.float32).groupby(\"n_samples\").mean().index\n",
    "y = dat[[\"run\", \"class\", \"auc\", \"n_samples\"]].astype(np.float32).groupby(\"n_samples\").mean()[\"auc\"]\n",
    "s = dat[[\"run\", \"class\", \"auc\", \"n_samples\"]].astype(np.float32).groupby([\"run\", \"n_samples\"]).mean().groupby([ \"n_samples\"]).std()[\"auc\"]\n",
    "\n",
    "np.asarray(x), np.asarray(y), np.asarray(s)"
   ]
  },
  {
   "cell_type": "code",
   "execution_count": 4,
   "id": "680e6b0e-f6a1-4407-b30f-2b738074de24",
   "metadata": {},
   "outputs": [
    {
     "name": "stdout",
     "output_type": "stream",
     "text": [
      "class=bottle     \tauc: 0.992 ± 0.004\n",
      "class=carpet     \tauc: 0.973 ± 0.025\n",
      "class=leather    \tauc: 0.961 ± 0.011\n",
      "class=pill       \tauc: 0.500 ± 0.000\n",
      "class=tile       \tauc: 0.495 ± 0.004\n",
      "class=wood       \tauc: 0.500 ± 0.000\n",
      "class=cable      \tauc: 0.500 ± 0.000\n",
      "class=grid       \tauc: 0.596 ± 0.022\n",
      "class=toothbrush \tauc: 0.999 ± 0.002\n",
      "class=zipper     \tauc: 0.959 ± 0.013\n",
      "class=capsule    \tauc: 0.842 ± 0.037\n",
      "class=hazelnut   \tauc: 0.512 ± 0.000\n",
      "class=metal_nut  \tauc: 0.615 ± 0.015\n",
      "class=screw      \tauc: 0.758 ± 0.090\n",
      "class=transistor \tauc: 0.610 ± 0.022\n",
      "avg.-auc: 0.721 ± 0.005\n"
     ]
    }
   ],
   "source": [
    "# GLOBAL layer 5/6\n",
    "log_ = pd.concat(log)\n",
    "\n",
    "for clazz in range(15):\n",
    "    auc = log_[(log_[\"class\"] == clazz)].groupby(\"run\").mean()[\"auc\"]\n",
    "    print(f\"class={MVTEC.CLASSES[clazz]:10s}\", f\"\\tauc: {auc.mean():.3f}\", \"\\u00B1\", f\"{auc.std():.3f}\")\n",
    "    \n",
    "log_ = pd.concat(log)\n",
    "\n",
    "auc = log_.groupby(\"run\").mean()[\"auc\"]\n",
    "print(f\"avg.-auc: {auc.mean():.3f}\", \"\\u00B1\", f\"{auc.std():.3f}\")"
   ]
  }
 ],
 "metadata": {
  "kernelspec": {
   "display_name": "Python 3 (ipykernel)",
   "language": "python",
   "name": "python3"
  },
  "language_info": {
   "codemirror_mode": {
    "name": "ipython",
    "version": 3
   },
   "file_extension": ".py",
   "mimetype": "text/x-python",
   "name": "python",
   "nbconvert_exporter": "python",
   "pygments_lexer": "ipython3",
   "version": "3.9.7"
  }
 },
 "nbformat": 4,
 "nbformat_minor": 5
}
