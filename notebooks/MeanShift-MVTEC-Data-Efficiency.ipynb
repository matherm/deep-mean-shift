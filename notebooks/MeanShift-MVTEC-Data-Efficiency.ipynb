{
 "cells": [
  {
   "cell_type": "code",
   "execution_count": 9,
   "id": "4d899787-85fe-4dab-8ee8-094bc76512ea",
   "metadata": {},
   "outputs": [
    {
     "name": "stdout",
     "output_type": "stream",
     "text": [
      "The autoreload extension is already loaded. To reload it, use:\n",
      "  %reload_ext autoreload\n"
     ]
    }
   ],
   "source": [
    "%load_ext autoreload\n",
    "%autoreload 2\n",
    "\n",
    "import tikzplotlib\n",
    "\n",
    "from sklearn.covariance import ledoit_wolf\n",
    "from sklearn.datasets import load_breast_cancer\n",
    "from sklearn.decomposition import PCA\n",
    "from sklearn.utils.extmath import fast_logdet, randomized_svd, svd_flip\n",
    "from torchvision import models, transforms\n",
    "\n",
    "from meanshift import *\n",
    "\n",
    "MVTEC_PATH=\"../../../../nas-files/mvtec\"\n",
    "\n",
    "device = 'cuda' if torch.cuda.is_available() else 'cpu'"
   ]
  },
  {
   "cell_type": "code",
   "execution_count": null,
   "id": "4f3c3282-5839-482d-8ef6-4d2f6fc3b48a",
   "metadata": {
    "scrolled": true,
    "tags": []
   },
   "outputs": [
    {
     "name": "stdout",
     "output_type": "stream",
     "text": [
      "(209, 12288, 11, 11)\n"
     ]
    },
    {
     "data": {
      "text/html": [
       "<div>\n",
       "<style scoped>\n",
       "    .dataframe tbody tr th:only-of-type {\n",
       "        vertical-align: middle;\n",
       "    }\n",
       "\n",
       "    .dataframe tbody tr th {\n",
       "        vertical-align: top;\n",
       "    }\n",
       "\n",
       "    .dataframe thead th {\n",
       "        text-align: right;\n",
       "    }\n",
       "</style>\n",
       "<table border=\"1\" class=\"dataframe\">\n",
       "  <thead>\n",
       "    <tr style=\"text-align: right;\">\n",
       "      <th></th>\n",
       "      <th>run</th>\n",
       "      <th>netname</th>\n",
       "      <th>class</th>\n",
       "      <th>A</th>\n",
       "      <th>P</th>\n",
       "      <th>layers</th>\n",
       "      <th>n_samples</th>\n",
       "      <th>rho</th>\n",
       "      <th>auc</th>\n",
       "      <th>auc_local</th>\n",
       "    </tr>\n",
       "  </thead>\n",
       "  <tbody>\n",
       "    <tr>\n",
       "      <th>0</th>\n",
       "      <td>1</td>\n",
       "      <td>raw</td>\n",
       "      <td>0</td>\n",
       "      <td>80</td>\n",
       "      <td>64</td>\n",
       "      <td>5</td>\n",
       "      <td>100</td>\n",
       "      <td>2</td>\n",
       "      <td>0.792063492063492</td>\n",
       "      <td>0.7865079365079365</td>\n",
       "    </tr>\n",
       "  </tbody>\n",
       "</table>\n",
       "</div>"
      ],
      "text/plain": [
       "  run netname class   A   P layers n_samples rho                auc  \\\n",
       "0   1     raw     0  80  64      5       100   2  0.792063492063492   \n",
       "\n",
       "            auc_local  \n",
       "0  0.7865079365079365  "
      ]
     },
     "metadata": {},
     "output_type": "display_data"
    },
    {
     "name": "stdout",
     "output_type": "stream",
     "text": [
      "(280, 12288, 11, 11)\n"
     ]
    },
    {
     "data": {
      "text/html": [
       "<div>\n",
       "<style scoped>\n",
       "    .dataframe tbody tr th:only-of-type {\n",
       "        vertical-align: middle;\n",
       "    }\n",
       "\n",
       "    .dataframe tbody tr th {\n",
       "        vertical-align: top;\n",
       "    }\n",
       "\n",
       "    .dataframe thead th {\n",
       "        text-align: right;\n",
       "    }\n",
       "</style>\n",
       "<table border=\"1\" class=\"dataframe\">\n",
       "  <thead>\n",
       "    <tr style=\"text-align: right;\">\n",
       "      <th></th>\n",
       "      <th>run</th>\n",
       "      <th>netname</th>\n",
       "      <th>class</th>\n",
       "      <th>A</th>\n",
       "      <th>P</th>\n",
       "      <th>layers</th>\n",
       "      <th>n_samples</th>\n",
       "      <th>rho</th>\n",
       "      <th>auc</th>\n",
       "      <th>auc_local</th>\n",
       "    </tr>\n",
       "  </thead>\n",
       "  <tbody>\n",
       "    <tr>\n",
       "      <th>0</th>\n",
       "      <td>1</td>\n",
       "      <td>raw</td>\n",
       "      <td>1</td>\n",
       "      <td>80</td>\n",
       "      <td>64</td>\n",
       "      <td>5</td>\n",
       "      <td>100</td>\n",
       "      <td>2</td>\n",
       "      <td>0.3398876404494382</td>\n",
       "      <td>0.5228731942215088</td>\n",
       "    </tr>\n",
       "  </tbody>\n",
       "</table>\n",
       "</div>"
      ],
      "text/plain": [
       "  run netname class   A   P layers n_samples rho                 auc  \\\n",
       "0   1     raw     1  80  64      5       100   2  0.3398876404494382   \n",
       "\n",
       "            auc_local  \n",
       "0  0.5228731942215088  "
      ]
     },
     "metadata": {},
     "output_type": "display_data"
    },
    {
     "name": "stdout",
     "output_type": "stream",
     "text": [
      "(245, 12288, 11, 11)\n"
     ]
    },
    {
     "data": {
      "text/html": [
       "<div>\n",
       "<style scoped>\n",
       "    .dataframe tbody tr th:only-of-type {\n",
       "        vertical-align: middle;\n",
       "    }\n",
       "\n",
       "    .dataframe tbody tr th {\n",
       "        vertical-align: top;\n",
       "    }\n",
       "\n",
       "    .dataframe thead th {\n",
       "        text-align: right;\n",
       "    }\n",
       "</style>\n",
       "<table border=\"1\" class=\"dataframe\">\n",
       "  <thead>\n",
       "    <tr style=\"text-align: right;\">\n",
       "      <th></th>\n",
       "      <th>run</th>\n",
       "      <th>netname</th>\n",
       "      <th>class</th>\n",
       "      <th>A</th>\n",
       "      <th>P</th>\n",
       "      <th>layers</th>\n",
       "      <th>n_samples</th>\n",
       "      <th>rho</th>\n",
       "      <th>auc</th>\n",
       "      <th>auc_local</th>\n",
       "    </tr>\n",
       "  </thead>\n",
       "  <tbody>\n",
       "    <tr>\n",
       "      <th>0</th>\n",
       "      <td>1</td>\n",
       "      <td>raw</td>\n",
       "      <td>2</td>\n",
       "      <td>80</td>\n",
       "      <td>64</td>\n",
       "      <td>5</td>\n",
       "      <td>100</td>\n",
       "      <td>2</td>\n",
       "      <td>0.5186820652173914</td>\n",
       "      <td>0.8906249999999999</td>\n",
       "    </tr>\n",
       "  </tbody>\n",
       "</table>\n",
       "</div>"
      ],
      "text/plain": [
       "  run netname class   A   P layers n_samples rho                 auc  \\\n",
       "0   1     raw     2  80  64      5       100   2  0.5186820652173914   \n",
       "\n",
       "            auc_local  \n",
       "0  0.8906249999999999  "
      ]
     },
     "metadata": {},
     "output_type": "display_data"
    },
    {
     "name": "stdout",
     "output_type": "stream",
     "text": [
      "(267, 12288, 11, 11)\n"
     ]
    },
    {
     "data": {
      "text/html": [
       "<div>\n",
       "<style scoped>\n",
       "    .dataframe tbody tr th:only-of-type {\n",
       "        vertical-align: middle;\n",
       "    }\n",
       "\n",
       "    .dataframe tbody tr th {\n",
       "        vertical-align: top;\n",
       "    }\n",
       "\n",
       "    .dataframe thead th {\n",
       "        text-align: right;\n",
       "    }\n",
       "</style>\n",
       "<table border=\"1\" class=\"dataframe\">\n",
       "  <thead>\n",
       "    <tr style=\"text-align: right;\">\n",
       "      <th></th>\n",
       "      <th>run</th>\n",
       "      <th>netname</th>\n",
       "      <th>class</th>\n",
       "      <th>A</th>\n",
       "      <th>P</th>\n",
       "      <th>layers</th>\n",
       "      <th>n_samples</th>\n",
       "      <th>rho</th>\n",
       "      <th>auc</th>\n",
       "      <th>auc_local</th>\n",
       "    </tr>\n",
       "  </thead>\n",
       "  <tbody>\n",
       "    <tr>\n",
       "      <th>0</th>\n",
       "      <td>1</td>\n",
       "      <td>raw</td>\n",
       "      <td>3</td>\n",
       "      <td>80</td>\n",
       "      <td>64</td>\n",
       "      <td>5</td>\n",
       "      <td>100</td>\n",
       "      <td>2</td>\n",
       "      <td>0.7315875613747954</td>\n",
       "      <td>0.8791598472449537</td>\n",
       "    </tr>\n",
       "  </tbody>\n",
       "</table>\n",
       "</div>"
      ],
      "text/plain": [
       "  run netname class   A   P layers n_samples rho                 auc  \\\n",
       "0   1     raw     3  80  64      5       100   2  0.7315875613747954   \n",
       "\n",
       "            auc_local  \n",
       "0  0.8791598472449537  "
      ]
     },
     "metadata": {},
     "output_type": "display_data"
    },
    {
     "name": "stdout",
     "output_type": "stream",
     "text": [
      "(230, 12288, 11, 11)\n"
     ]
    }
   ],
   "source": [
    "L = 5\n",
    "log = []\n",
    "P = 64\n",
    "A = 80\n",
    "s = 16\n",
    "p = 1\n",
    "\n",
    "for netname in [\"raw\", \"vitb16\", \"eff\", \"res\", \"vgg\"]: \n",
    "    \n",
    "    if netname != \"raw\":\n",
    "        net, layer_map = get_fmap(netname)\n",
    "        net = net.to(device)\n",
    "        net = net.eval()\n",
    "    \n",
    "    L = 7 if netname == \"vitb16\" else L\n",
    "    L = 6 if netname == \"res\" else L\n",
    "    L = 6 if netname == \"vgg\" else L\n",
    "    L = 5 if netname == \"eff\" else L\n",
    "    blocks = [L, L+1] if netname == \"eff\" else [L]\n",
    "    \n",
    "    r = int( (A - P)/s + 1 )\n",
    "    \n",
    "    for clazz in range(0, 15):\n",
    "\n",
    "        X_, X_valid_, X_test_, X_labels_, T = dataloader(clazz, P=224, s=224, label_per_patch=False, load_size=256, crop_size=224, normalize=True, MVTEC_PATH=MVTEC_PATH)\n",
    "        \n",
    "        if netname == \"raw\":\n",
    "            net, layer_map = get_pca(X_, 1.0, P, s)\n",
    "            net = net.to(device)\n",
    "            net = net.eval()\n",
    "\n",
    "        if netname == \"vitb16\":\n",
    "            X = patches_to_feature_space_vit(X_, net, P=P, s=s, blocks=blocks, layer_map=layer_map)\n",
    "            X_valid = patches_to_feature_space_vit(X_valid_, net, P=P, s=s, blocks=blocks, layer_map=layer_map)\n",
    "            X_test = patches_to_feature_space_vit(X_test_, net, P=P, s=s, blocks=blocks, layer_map=layer_map)\n",
    "        else:\n",
    "            X = patches_to_feature_space(X_, net, P, s, blocks=blocks, layer_map=layer_map)\n",
    "            X_valid = patches_to_feature_space(X_valid_, net, P, s, blocks=blocks, layer_map=layer_map)\n",
    "            X_test = patches_to_feature_space(X_test_, net, P, s, blocks=blocks, layer_map=layer_map)\n",
    "        \n",
    "        print(X.shape)\n",
    "                \n",
    "        for run in range(5):\n",
    "            \n",
    "            for n in [1, 5, 10, 25, 50, 80, 100]:\n",
    "\n",
    "                mu, means, cov, T = estimate_statistics(X[np.random.permutation(len(X))][:n], mode=\"ledoit\", BSZ=(p, p), rho=r)\n",
    "                s_in = local_hotelling(X_valid, T, mu, means, cov, BSZ=(p, p), rho=r)\n",
    "                s_out = local_hotelling(X_test, T, mu, means, cov, BSZ=(p, p), rho=r)\n",
    "                \n",
    "                \n",
    "                auc_local = roc_auc_score([0] * len(X_valid) + [1] * len(X_test), np.concatenate([s_in, s_out]))\n",
    "\n",
    "                s_in = hotelling(X_valid, T, mu, cov, BSZ=(p, p))\n",
    "                s_out = hotelling(X_test, T, mu, cov, BSZ=(p, p))\n",
    "\n",
    "                auc = roc_auc_score([0] * len(X_valid) + [1] * len(X_test), np.concatenate([s_in, s_out]))\n",
    "\n",
    "                log.append(pd.DataFrame(np.asarray([run, netname, clazz, A, P, blocks[0], n, r, auc, auc_local])[:, None].T, columns=[\"run\", \"netname\", \"class\", \"A\", \"P\", \"layers\", \"n_samples\", \"rho\", \"auc\", \"auc_local\"])) \n",
    "\n",
    "        display(log[-1])\n",
    "        torch.save(log, \"backup3.log\")\n"
   ]
  },
  {
   "cell_type": "code",
   "execution_count": 24,
   "id": "1fda8759-3c8c-42a8-a61d-09940e024537",
   "metadata": {},
   "outputs": [
    {
     "data": {
      "image/png": "[encoded data removed]",
      "text/plain": [
       "<Figure size 432x288 with 1 Axes>"
      ]
     },
     "metadata": {
      "needs_background": "light"
     },
     "output_type": "display_data"
    }
   ],
   "source": [
    "X_mean = [0.860 , 0.923 , 0.939 , 0.964 , 0.971 , 0.979 , 0.979]\n",
    "X_std = [0.088, 0.050, 0.040, 0.023, 0.019, 0.014, 0.014]\n",
    "x = [1, 5, 10, 25, 50, 80, 100]\n",
    "\n",
    "names = [\"Raw\", \"EfficientNet-B4\", \"WideResnet-50\", \"VGG-19\", \"ViT-16\"]\n",
    "colors = [\"b\", \"g\", \"r\", \"orange\", \"pink\"]\n",
    "dat = pd.concat(torch.load(\"experiments/data_efficiency.log\"))\n",
    "\n",
    "for i, netname in enumerate([\"raw\", \"eff\", \"res\", \"vgg\", \"vitb16\"]):\n",
    "    x = dat[dat[\"netname\"] == netname][[\"run\", \"class\", \"auc_local\", \"n_samples\"]].astype(np.float32).groupby(\"n_samples\").mean().index\n",
    "    y = dat[dat[\"netname\"] == netname][[\"run\", \"class\", \"auc_local\", \"n_samples\"]].astype(np.float32).groupby(\"n_samples\").mean()[\"auc_local\"]\n",
    "    s = dat[dat[\"netname\"] == netname][[\"run\", \"class\", \"auc_local\", \"n_samples\"]].astype(np.float32).groupby([\"run\", \"n_samples\"]).mean().groupby([ \"n_samples\"]).std()[\"auc_local\"]\n",
    "    \n",
    "    x, y, s = np.asarray(x), np.asarray(y), np.asarray(s)\n",
    "\n",
    "    plt.plot(x, y, label=names[i], color=colors[i])\n",
    "    plt.fill_between(x, y-s, y+s, color=\"grey\", alpha=.15)\n",
    "    \n",
    "plt.xticks(x)\n",
    "plt.ylabel(\"AUC\")\n",
    "plt.xlabel(\"Number of training examples\")\n",
    "plt.title(\"\")\n",
    "plt.legend()\n",
    "tikzplotlib.save(\"tex/data_efficiency.tex\")"
   ]
  },
  {
   "cell_type": "code",
   "execution_count": 22,
   "id": "66e7929a-06c9-43cc-a2ad-1abc052456eb",
   "metadata": {},
   "outputs": [
    {
     "data": {
      "image/png": "[encoded data removed]",
      "text/plain": [
       "<Figure size 432x288 with 1 Axes>"
      ]
     },
     "metadata": {
      "needs_background": "light"
     },
     "output_type": "display_data"
    }
   ],
   "source": [
    "colors = [\"b\", \"g\", \"r\", \"orange\", \"pink\"]\n",
    "\n",
    "x = [1, 5, 10, 25, 50, 80, 100]\n",
    "y_patch_core = np.asarray([0.82582205, 0.8922442,  0.92482025, 0.94384729, 0.96549763, 0.97318691, 0.97529351])\n",
    "s_patch_core = np.asarray([0.00517104, 0.0096512 , 0.00248153, 0.0019344 , 0.00240823, 0.00124494, 0.0018492])\n",
    "\n",
    "plt.plot(x, y_patch_core, label=\"PatchCore\", color=colors[0])\n",
    "plt.fill_between(x, y_patch_core-s_patch_core, y_patch_core+s_patch_core, color=\"grey\", alpha=.15)\n",
    "\n",
    "dat = pd.concat(torch.load(\"experiments/data_efficiency.log\"))\n",
    "x = dat[dat[\"netname\"] == \"eff\"][[\"run\", \"class\", \"auc_local\", \"n_samples\"]].astype(np.float32).groupby(\"n_samples\").mean().index\n",
    "y = dat[dat[\"netname\"] == \"eff\"][[\"run\", \"class\", \"auc_local\", \"n_samples\"]].astype(np.float32).groupby(\"n_samples\").mean()[\"auc_local\"]\n",
    "s = dat[dat[\"netname\"] == \"eff\"][[\"run\", \"class\", \"auc_local\", \"n_samples\"]].astype(np.float32).groupby([\"run\", \"n_samples\"]).mean().groupby([ \"n_samples\"]).std()[\"auc_local\"]\n",
    "x, y, s = np.asarray(x), np.asarray(y), np.asarray(s)\n",
    "plt.plot(x, y, label=\"$\\mu$shift$^{eff}$\", color=colors[1])\n",
    "plt.fill_between(x, y-s, y+s, color=\"grey\", alpha=.15)\n",
    "\n",
    "\n",
    "y_ht = np.asarray([0.756, 0.779,  0.780, 0.780, 0.780, 0.780, 0.780])\n",
    "s_ht = np.asarray([0.00517104, 0.0096512 , 0.00248153, 0.0019344 , 0.00240823, 0.00124494, 0.0018492])\n",
    "\n",
    "plt.plot(x[:3], y_ht[:3], label=\"HTDGM\", color=colors[2])\n",
    "plt.fill_between(x[:3], y_ht[:3]-s_ht[:3], y_ht[:3]+s_ht[:3], color=\"grey\", alpha=.15)\n",
    "\n",
    "plt.plot(x[2:], y_ht[2:], '--' , color=colors[2])\n",
    "plt.fill_between(x[2:], y_ht[2:]-s_ht[2:], y_ht[2:]+s_ht[2:], color=\"grey\", alpha=.15)\n",
    "\n",
    "\n",
    "y_mh = np.asarray([0.5       , 0.831542  , 0.87037206, 0.89370525, 0.9181281 , 0.9368697 , 0.9367348 ])\n",
    "s_mh = np.asarray([0.        , 0.00013533, 0.02060096, 0.01077063, 0.00744486, 0.00024028, 0.00020155])\n",
    "\n",
    "plt.plot(x, y_mh, label=\"Mahalanobis\", color=colors[3])\n",
    "plt.fill_between(x, y_mh-s_mh, y_mh+s_mh, color=\"grey\", alpha=.15)\n",
    "\n",
    "y_mh = np.asarray([0.5781456 , 0.62865186, 0.6516684 , 0.6665207 , 0.6735555 , 0.6905192 , 0.69877046])\n",
    "s_mh = np.asarray([0.00816637, 0.00409292, 0.01393459, 0.00899292, 0.00876924, 0.00249585, 0.00780391])\n",
    "\n",
    "plt.plot(x, y_mh, label=\"OC-SVM\", color=colors[4])\n",
    "plt.fill_between(x, y_mh-s_mh, y_mh+s_mh, color=\"grey\", alpha=.15)\n",
    "\n",
    "\n",
    "plt.xticks(x)\n",
    "plt.ylabel(\"AUC\")\n",
    "plt.xlabel(\"Number of training examples\")\n",
    "plt.title(\"\")\n",
    "plt.legend()\n",
    "tikzplotlib.save(\"tex/data_efficiency_vs.tex\")"
   ]
  },
  {
   "cell_type": "code",
   "execution_count": null,
   "id": "2cbcc7cc-2e86-4c7b-96a5-80f3a8f68709",
   "metadata": {},
   "outputs": [],
   "source": []
  }
 ],
 "metadata": {
  "kernelspec": {
   "display_name": "Python 3 (ipykernel)",
   "language": "python",
   "name": "python3"
  },
  "language_info": {
   "codemirror_mode": {
    "name": "ipython",
    "version": 3
   },
   "file_extension": ".py",
   "mimetype": "text/x-python",
   "name": "python",
   "nbconvert_exporter": "python",
   "pygments_lexer": "ipython3",
   "version": "3.9.7"
  }
 },
 "nbformat": 4,
 "nbformat_minor": 5
}
