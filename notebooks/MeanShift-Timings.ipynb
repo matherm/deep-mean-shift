{
 "cells": [
  {
   "cell_type": "code",
   "execution_count": 5,
   "id": "7d12516c-c299-4b6b-9e64-888ef57c3715",
   "metadata": {},
   "outputs": [
    {
     "name": "stdout",
     "output_type": "stream",
     "text": [
      "The autoreload extension is already loaded. To reload it, use:\n",
      "  %reload_ext autoreload\n"
     ]
    },
    {
     "data": {
      "text/plain": [
       "'cuda'"
      ]
     },
     "execution_count": 5,
     "metadata": {},
     "output_type": "execute_result"
    }
   ],
   "source": [
    "%load_ext autoreload\n",
    "%autoreload 2\n",
    "\n",
    "from torchvision import models, transforms\n",
    "from meanshift import *\n",
    "\n",
    "MVTEC_PATH=\"../../../../nas-files/mvtec\"\n",
    "\n",
    "device = 'cuda' if torch.cuda.is_available() else 'cpu'\n",
    "\n",
    "net = models.efficientnet_b4(pretrained=True).features\n",
    "net = net.to(device)\n",
    "net = net.eval()\n",
    "\n",
    "device"
   ]
  },
  {
   "cell_type": "code",
   "execution_count": 6,
   "id": "3b7dd603-d8fa-4ef6-a9cf-bf1102a7fa52",
   "metadata": {},
   "outputs": [],
   "source": []
  },
  {
   "cell_type": "code",
   "execution_count": 93,
   "id": "c68e4545-7789-4402-bdc6-3e11b7619edd",
   "metadata": {},
   "outputs": [],
   "source": [
    "log = []\n",
    "layers = [5, 6]\n",
    "X_, X_valid_, X_test_, X_labels_, T = dataloader(1, P=224, s=224, label_per_patch=False, load_size=256, crop_size=224, normalize=False, MVTEC_PATH=MVTEC_PATH )\n",
    "X = concat_features(X_, net, blocks=layers, fmap_pool=False)\n",
    "mu, means, cov, T = estimate_statistics(X[np.random.permutation(len(X))][:], mode=\"ledoit\", BSZ=(5, 5), rho=2)\n",
    "cov_inv = np.linalg.inv(cov)\n",
    "L = torch.linalg.cholesky(torch.from_numpy(cov))  "
   ]
  },
  {
   "cell_type": "code",
   "execution_count": null,
   "id": "fd7b7356-fe99-444c-9223-acf56ded882b",
   "metadata": {},
   "outputs": [],
   "source": [
    "mu = torch.from_numpy(mu).to(device).float()\n",
    "means = torch.from_numpy(means).to(device).float()\n",
    "X = torch.from_numpy(X).to(device).float()\n",
    "L = L.to(device).float()"
   ]
  },
  {
   "cell_type": "code",
   "execution_count": 39,
   "id": "aa88da2d-ff73-4942-bdfd-af32afa8f4a0",
   "metadata": {},
   "outputs": [
    {
     "data": {
      "text/plain": [
       "tensor([881245.2500, 875501.9375, 881651.0000, 852389.5625, 878424.0000,\n",
       "        862249.7500, 886882.7500, 828659.6250, 842410.5625, 847853.3750],\n",
       "       device='cuda:0')"
      ]
     },
     "execution_count": 39,
     "metadata": {},
     "output_type": "execute_result"
    }
   ],
   "source": [
    "local_hotelling_experimental(X[:10], T, mu, means, L, device=device)"
   ]
  },
  {
   "cell_type": "code",
   "execution_count": 13,
   "id": "76ea55a0-bd55-41ba-b787-5b8dfd04c82d",
   "metadata": {},
   "outputs": [
    {
     "name": "stdout",
     "output_type": "stream",
     "text": [
      "6.37 s ± 21.1 ms per loop (mean ± std. dev. of 7 runs, 1 loop each)\n"
     ]
    }
   ],
   "source": [
    "%timeit local_hotelling(X[:100], T, mu, means, cov_inv, BSZ=(5, 5), rho=2)"
   ]
  },
  {
   "cell_type": "code",
   "execution_count": 33,
   "id": "697aa90d-b0ed-4d57-9ecc-0075ed9eadbe",
   "metadata": {},
   "outputs": [
    {
     "name": "stdout",
     "output_type": "stream",
     "text": [
      "8.64 ms ± 3.51 µs per loop (mean ± std. dev. of 7 runs, 1000 loops each)\n"
     ]
    }
   ],
   "source": [
    "mu = torch.from_numpy(mu).to(device).float()\n",
    "means = torch.from_numpy(means).to(device).float()\n",
    "X = torch.from_numpy(X).to(device).float()\n",
    "L = L.to(device).float()\n",
    "%timeit local_hotelling_experimental(X[:10], T, mu, means, L, device=device)"
   ]
  },
  {
   "cell_type": "code",
   "execution_count": 30,
   "id": "0bd9d313-b3cb-40e0-947e-6dceafd9112b",
   "metadata": {},
   "outputs": [
    {
     "name": "stdout",
     "output_type": "stream",
     "text": [
      "12.3 ms ± 27.7 µs per loop (mean ± std. dev. of 7 runs, 100 loops each)\n"
     ]
    }
   ],
   "source": [
    "net = net.cuda()\n",
    "%timeit concat_features(X_[:10], net, blocks=[5], fmap_pool=False)"
   ]
  },
  {
   "cell_type": "code",
   "execution_count": 30,
   "id": "e673a58e-3d18-4924-bc4b-d8a8391d2a6c",
   "metadata": {},
   "outputs": [
    {
     "name": "stdout",
     "output_type": "stream",
     "text": [
      "5.01 ms ± 11.3 µs per loop (mean ± std. dev. of 7 runs, 100 loops each)\n"
     ]
    }
   ],
   "source": [
    "net = net.cuda()\n",
    "x = torch.from_numpy( X_[:1] ).to(device)\n",
    "nett = net[:4]\n",
    "%timeit nett(x)"
   ]
  },
  {
   "cell_type": "code",
   "execution_count": 22,
   "id": "05c6cd86-44d3-4241-8fb1-105a95ac6e64",
   "metadata": {},
   "outputs": [
    {
     "name": "stdout",
     "output_type": "stream",
     "text": [
      "360 ms ± 4.77 ms per loop (mean ± std. dev. of 7 runs, 1 loop each)\n"
     ]
    }
   ],
   "source": [
    "net = net.cpu()\n",
    "%timeit concat_features(X_[:10], net, layers=[6], fmap_pool=False)"
   ]
  },
  {
   "cell_type": "code",
   "execution_count": 15,
   "id": "ed9b0a9c-3ad1-45ee-a3dd-9287a852de0f",
   "metadata": {},
   "outputs": [
    {
     "name": "stdout",
     "output_type": "stream",
     "text": [
      "21.2 s ± 11.5 ms per loop (mean ± std. dev. of 7 runs, 1 loop each)\n"
     ]
    }
   ],
   "source": [
    "%timeit estimate_statistics(X[np.random.permutation(len(X))][:], mode=\"ledoit\", BSZ=(5, 5), rho=2)"
   ]
  },
  {
   "cell_type": "code",
   "execution_count": 16,
   "id": "0af3be2e-ad59-4d37-870d-34a63e45b434",
   "metadata": {},
   "outputs": [
    {
     "name": "stdout",
     "output_type": "stream",
     "text": [
      "18.3 s ± 37.5 ms per loop (mean ± std. dev. of 7 runs, 1 loop each)\n"
     ]
    }
   ],
   "source": [
    "%timeit local_hotelling(X, T, mu, means, cov, BSZ=(5, 5), rho=2)"
   ]
  },
  {
   "cell_type": "code",
   "execution_count": 30,
   "id": "70a99253-3fcd-4109-bbc8-b996773686dd",
   "metadata": {},
   "outputs": [
    {
     "name": "stdout",
     "output_type": "stream",
     "text": [
      "328 ms ± 1.27 ms per loop (mean ± std. dev. of 7 runs, 1 loop each)\n"
     ]
    }
   ],
   "source": [
    "%timeit torch.mm(torch.ones((209*100, 6800)).to(device) , torch.ones((209*100, 6800)).to(device).T)"
   ]
  },
  {
   "cell_type": "code",
   "execution_count": 33,
   "id": "fab89f3f-fa6f-42de-a2d4-04aa5f90f536",
   "metadata": {},
   "outputs": [
    {
     "name": "stdout",
     "output_type": "stream",
     "text": [
      "32.4 s ± 32 ms per loop (mean ± std. dev. of 7 runs, 1 loop each)\n"
     ]
    }
   ],
   "source": [
    "%timeit ledoit_wolf(np.ones((209*100, 6800)), assume_centered=False, block_size=1000)[0]"
   ]
  },
  {
   "cell_type": "code",
   "execution_count": 32,
   "id": "c926b4cc-c569-47bb-981c-7b032c7cb221",
   "metadata": {},
   "outputs": [
    {
     "name": "stdout",
     "output_type": "stream",
     "text": [
      "4.87 s ± 2.55 ms per loop (mean ± std. dev. of 7 runs, 1 loop each)\n"
     ]
    }
   ],
   "source": [
    "%timeit np.cov(np.ones((209*100, 6800)).T)"
   ]
  },
  {
   "cell_type": "code",
   "execution_count": 23,
   "id": "748e120d-56c8-4b7d-98bd-ed1255d7c730",
   "metadata": {
    "jupyter": {
     "source_hidden": true
    },
    "tags": []
   },
   "outputs": [
    {
     "name": "stdout",
     "output_type": "stream",
     "text": [
      "3.29 s ± 109 ms per loop (mean ± std. dev. of 7 runs, 1 loop each)\n"
     ]
    }
   ],
   "source": [
    "%timeit local_hotelling_opt(X[:100], T, mu, means, cov_inv, device=\"cpu\")"
   ]
  },
  {
   "cell_type": "code",
   "execution_count": 18,
   "id": "1505e24d-b489-4dd9-811f-4c214a7f80ff",
   "metadata": {},
   "outputs": [
    {
     "name": "stdout",
     "output_type": "stream",
     "text": [
      "6.76 s ± 96.4 ms per loop (mean ± std. dev. of 7 runs, 1 loop each)\n"
     ]
    }
   ],
   "source": [
    "%timeit local_hotelling(X[:100], T, mu, means, cov_inv, BSZ=(5, 5), rho=2)"
   ]
  },
  {
   "cell_type": "code",
   "execution_count": null,
   "id": "1d5c3e2a-cd59-40ae-858d-a5f58dc3d801",
   "metadata": {},
   "outputs": [],
   "source": []
  },
  {
   "cell_type": "code",
   "execution_count": null,
   "id": "f6ca88d2-ff4b-4c9a-aa81-00f6d2c5460a",
   "metadata": {},
   "outputs": [],
   "source": []
  },
  {
   "cell_type": "code",
   "execution_count": null,
   "id": "952ba665-caa3-4469-b675-af9cd6d78af9",
   "metadata": {},
   "outputs": [],
   "source": []
  },
  {
   "cell_type": "code",
   "execution_count": null,
   "id": "6b425f0d-880a-454a-a0ce-218768f36a3b",
   "metadata": {},
   "outputs": [],
   "source": []
  },
  {
   "cell_type": "code",
   "execution_count": 7,
   "id": "487f07e6-3888-43f4-bccf-dee5f761a043",
   "metadata": {},
   "outputs": [],
   "source": [
    "layers = [6]\n",
    "transform = transforms.Compose([\n",
    "        transforms.ToTensor(),\n",
    "        transforms.Normalize((0.4914, 0.4822, 0.4465), (0.2023, 0.1994, 0.2010)),\n",
    "    ])\n",
    "\n",
    "X, X_valid, X_test = Cifar10_OneClass(train_classes=[9], balance=False, download=False, transform=transform)[0]\n",
    "X, X_valid, X_test = asreshape(X, X_valid, X_test, shape=(3, 32, 32))\n",
    "X = concat_features(X, net, blocks=layers, fmap_pool=False)\n",
    "X_valid = concat_features(X_valid, net, blocks=layers, fmap_pool=False)\n",
    "X_test = concat_features(X_test, net, blocks=layers, fmap_pool=False)\n",
    "\n",
    "mu, means, cov_inv, T = estimate_statistics(X, mode=\"ledoit\", BSZ=(1, 1), rho=1)"
   ]
  },
  {
   "cell_type": "code",
   "execution_count": 4,
   "id": "d5fa0483-92ca-4805-ab74-d96000a8f545",
   "metadata": {},
   "outputs": [
    {
     "data": {
      "text/plain": [
       "array([195.39021016, 149.65624618, 225.99998571, 154.62704366,\n",
       "       212.80977549])"
      ]
     },
     "execution_count": 4,
     "metadata": {},
     "output_type": "execute_result"
    }
   ],
   "source": [
    "local_hotelling(X_valid, T, mu, means, cov_inv, BSZ=(1, 1), rho=1)[-5:]"
   ]
  },
  {
   "cell_type": "code",
   "execution_count": 9,
   "id": "dad708ea-e62d-453e-b54a-452e28f8fa03",
   "metadata": {},
   "outputs": [
    {
     "data": {
      "text/plain": [
       "tensor([195.3902, 149.6562, 226.0000, 154.6270, 212.8098])"
      ]
     },
     "execution_count": 9,
     "metadata": {},
     "output_type": "execute_result"
    }
   ],
   "source": [
    "local_hotelling_opt(torch.from_numpy(X_valid), T, torch.from_numpy(mu), torch.from_numpy(means), torch.from_numpy(cov_inv).float(), BSZ=(1, 1), rho=1)[-5:]"
   ]
  },
  {
   "cell_type": "code",
   "execution_count": 10,
   "id": "de691bd3-ff20-43bb-aeef-99d46addc66b",
   "metadata": {},
   "outputs": [
    {
     "data": {
      "text/plain": [
       "tensor([195.3902, 149.6562, 226.0000, 154.6270, 212.8097])"
      ]
     },
     "execution_count": 10,
     "metadata": {},
     "output_type": "execute_result"
    }
   ],
   "source": [
    "L = torch.linalg.cholesky(torch.from_numpy(cov_inv)).float()\n",
    "local_hotelling_extreme(torch.from_numpy(X_valid), T, torch.from_numpy(mu), torch.from_numpy(means), L, BSZ=(1, 1), rho=1)[-5:]"
   ]
  },
  {
   "cell_type": "code",
   "execution_count": 7,
   "id": "8c4132a5-05f9-47af-8389-d70ad0c40a8a",
   "metadata": {},
   "outputs": [
    {
     "data": {
      "text/plain": [
       "0.802433"
      ]
     },
     "execution_count": 7,
     "metadata": {},
     "output_type": "execute_result"
    }
   ],
   "source": [
    "s_in = local_hotelling(X_valid, T, mu, means, cov_inv, BSZ=(1, 1), rho=1)\n",
    "s_out = local_hotelling(X_test, T, mu, means, cov_inv, BSZ=(1, 1), rho=1)\n",
    "\n",
    "auc_local = roc_auc_score([0] * len(X_valid) + [1] * len(X_test), np.concatenate([s_in, s_out]))\n",
    "auc_local"
   ]
  },
  {
   "cell_type": "code",
   "execution_count": 12,
   "id": "8a22ca0d-e6f4-4576-b73a-54ce35e2e109",
   "metadata": {},
   "outputs": [
    {
     "data": {
      "text/plain": [
       "0.8024331666666666"
      ]
     },
     "execution_count": 12,
     "metadata": {},
     "output_type": "execute_result"
    }
   ],
   "source": [
    "s_in = local_hotelling_opt(torch.from_numpy(X_valid), T, torch.from_numpy(mu), torch.from_numpy(means), torch.from_numpy(cov_inv).float(), BSZ=(1, 1), rho=1)\n",
    "s_out = local_hotelling_opt(torch.from_numpy(X_test), T, torch.from_numpy(mu), torch.from_numpy(means), torch.from_numpy(cov_inv).float(), BSZ=(1, 1), rho=1)\n",
    "\n",
    "auc_local = roc_auc_score([0] * len(X_valid) + [1] * len(X_test), np.concatenate([s_in, s_out]))\n",
    "auc_local"
   ]
  },
  {
   "cell_type": "code",
   "execution_count": 13,
   "id": "ea2646ee-4660-45f7-a1a3-cd746735e4e7",
   "metadata": {},
   "outputs": [
    {
     "data": {
      "text/plain": [
       "0.8024330555555557"
      ]
     },
     "execution_count": 13,
     "metadata": {},
     "output_type": "execute_result"
    }
   ],
   "source": [
    "\n",
    "s_in = local_hotelling_extreme(torch.from_numpy(X_valid), T, torch.from_numpy(mu), torch.from_numpy(means), L, BSZ=(1, 1), rho=1)\n",
    "s_out = local_hotelling_extreme(torch.from_numpy(X_test), T, torch.from_numpy(mu), torch.from_numpy(means), L, BSZ=(1, 1), rho=1)\n",
    "\n",
    "auc_local = roc_auc_score([0] * len(X_valid) + [1] * len(X_test), np.concatenate([s_in, s_out]))\n",
    "auc_local"
   ]
  }
 ],
 "metadata": {
  "kernelspec": {
   "display_name": "Python 3 (ipykernel)",
   "language": "python",
   "name": "python3"
  },
  "language_info": {
   "codemirror_mode": {
    "name": "ipython",
    "version": 3
   },
   "file_extension": ".py",
   "mimetype": "text/x-python",
   "name": "python",
   "nbconvert_exporter": "python",
   "pygments_lexer": "ipython3",
   "version": "3.9.7"
  }
 },
 "nbformat": 4,
 "nbformat_minor": 5
}
